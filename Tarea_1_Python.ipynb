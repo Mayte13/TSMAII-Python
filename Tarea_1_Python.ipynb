{
  "nbformat": 4,
  "nbformat_minor": 0,
  "metadata": {
    "colab": {
      "provenance": []
    },
    "kernelspec": {
      "name": "python3",
      "display_name": "Python 3"
    },
    "language_info": {
      "name": "python"
    }
  },
  "cells": [
    {
      "cell_type": "code",
      "execution_count": null,
      "metadata": {
        "id": "scnwC1Bb56b7"
      },
      "outputs": [],
      "source": [
        "#1. Crea un bucle para obtener el promedio de todos los elementos que se encuentran en las siguientes listas:\n",
        "\n",
        "L1=[7.2,7.8,6.8,8.0,None,'8.2',5.6,8.2,7.7,7.5,None,5.8]\n",
        "L2=['6.8',None,6.8,6.1,7.9,9.4,None]\n",
        "L3=[8.5,'9.0',None,7.7]\n"
      ]
    },
    {
      "cell_type": "code",
      "source": [
        "lista_total = L1 + L2 + L3\n",
        "lista_total"
      ],
      "metadata": {
        "colab": {
          "base_uri": "https://localhost:8080/"
        },
        "id": "UA5IQ3fkTEnf",
        "outputId": "98c9389a-af6b-417b-c980-d75759ab85ea"
      },
      "execution_count": null,
      "outputs": [
        {
          "output_type": "execute_result",
          "data": {
            "text/plain": [
              "[7.2,\n",
              " 7.8,\n",
              " 6.8,\n",
              " 8.0,\n",
              " None,\n",
              " '8.2',\n",
              " 5.6,\n",
              " 8.2,\n",
              " 7.7,\n",
              " 7.5,\n",
              " None,\n",
              " 5.8,\n",
              " '6.8',\n",
              " None,\n",
              " 6.8,\n",
              " 6.1,\n",
              " 7.9,\n",
              " 9.4,\n",
              " None,\n",
              " 8.5,\n",
              " '9.0',\n",
              " None,\n",
              " 7.7]"
            ]
          },
          "metadata": {},
          "execution_count": 2
        }
      ]
    },
    {
      "cell_type": "markdown",
      "source": [
        "para calcular el promedio de las listas primero debemos cambiar los elementos que estan entre '' con el comando remove y agregarlo con appen"
      ],
      "metadata": {
        "id": "itN9HUPEZxwt"
      }
    },
    {
      "cell_type": "code",
      "source": [
        "nueva =[]\n",
        "for x in lista_total:\n",
        "  if x is not None:\n",
        "    nueva.append(x)\n",
        "print(nueva)"
      ],
      "metadata": {
        "colab": {
          "base_uri": "https://localhost:8080/"
        },
        "id": "t6PeM515bvxt",
        "outputId": "84107d42-15b3-498a-a9dd-ab8f9b6743fb"
      },
      "execution_count": null,
      "outputs": [
        {
          "output_type": "stream",
          "name": "stdout",
          "text": [
            "[7.2, 7.8, 6.8, 8.0, '8.2', 5.6, 8.2, 7.7, 7.5, 5.8, '6.8', 6.8, 6.1, 7.9, 9.4, 8.5, '9.0', 7.7]\n"
          ]
        }
      ]
    },
    {
      "cell_type": "code",
      "source": [
        "nueva.remove('8.2')"
      ],
      "metadata": {
        "id": "a-myWB9SZKQV"
      },
      "execution_count": null,
      "outputs": []
    },
    {
      "cell_type": "code",
      "source": [
        "nueva.remove('6.8')"
      ],
      "metadata": {
        "id": "OWNmYL6vZahM"
      },
      "execution_count": null,
      "outputs": []
    },
    {
      "cell_type": "code",
      "source": [
        "nueva.remove('9.0')"
      ],
      "metadata": {
        "id": "VOB8GwVjZhbU"
      },
      "execution_count": null,
      "outputs": []
    },
    {
      "cell_type": "code",
      "source": [
        "nueva"
      ],
      "metadata": {
        "colab": {
          "base_uri": "https://localhost:8080/"
        },
        "id": "2yFbVEipZnpV",
        "outputId": "0eed616f-85db-4a3f-fc58-863e8b79a3d5"
      },
      "execution_count": null,
      "outputs": [
        {
          "output_type": "execute_result",
          "data": {
            "text/plain": [
              "[7.2, 7.8, 6.8, 8.0, 5.6, 8.2, 7.7, 7.5, 5.8, 6.8, 6.1, 7.9, 9.4, 8.5, 7.7]"
            ]
          },
          "metadata": {},
          "execution_count": 7
        }
      ]
    },
    {
      "cell_type": "code",
      "source": [
        "nueva.append(8.2)"
      ],
      "metadata": {
        "id": "aUiLNfTZZ56E"
      },
      "execution_count": null,
      "outputs": []
    },
    {
      "cell_type": "code",
      "source": [
        "nueva.append(6.8)"
      ],
      "metadata": {
        "id": "22xJpQHKaB9F"
      },
      "execution_count": null,
      "outputs": []
    },
    {
      "cell_type": "code",
      "source": [
        "nueva.append(9.0)"
      ],
      "metadata": {
        "id": "1UqbsFl6aB8N"
      },
      "execution_count": null,
      "outputs": []
    },
    {
      "cell_type": "code",
      "source": [
        "nueva"
      ],
      "metadata": {
        "colab": {
          "base_uri": "https://localhost:8080/"
        },
        "id": "aeDYGqMPaKqt",
        "outputId": "8c2ecfa4-82bb-4e18-9e5d-49c7e97f4193"
      },
      "execution_count": null,
      "outputs": [
        {
          "output_type": "execute_result",
          "data": {
            "text/plain": [
              "[7.2,\n",
              " 7.8,\n",
              " 6.8,\n",
              " 8.0,\n",
              " 5.6,\n",
              " 8.2,\n",
              " 7.7,\n",
              " 7.5,\n",
              " 5.8,\n",
              " 6.8,\n",
              " 6.1,\n",
              " 7.9,\n",
              " 9.4,\n",
              " 8.5,\n",
              " 7.7,\n",
              " 8.2,\n",
              " 6.8,\n",
              " 9.0]"
            ]
          },
          "metadata": {},
          "execution_count": 11
        }
      ]
    },
    {
      "cell_type": "code",
      "source": [
        "suma_total = 0\n",
        "\n",
        "for i in nueva:\n",
        "   if i is None:continue\n",
        "   suma_total += i"
      ],
      "metadata": {
        "id": "nvMgv5ih2rr6"
      },
      "execution_count": null,
      "outputs": []
    },
    {
      "cell_type": "code",
      "source": [
        "suma_total"
      ],
      "metadata": {
        "colab": {
          "base_uri": "https://localhost:8080/"
        },
        "id": "QyR7V16881Oq",
        "outputId": "c6da2d04-d2b7-413a-df98-8a59f731f5b7"
      },
      "execution_count": null,
      "outputs": [
        {
          "output_type": "execute_result",
          "data": {
            "text/plain": [
              "135.0"
            ]
          },
          "metadata": {},
          "execution_count": 13
        }
      ]
    },
    {
      "cell_type": "code",
      "source": [
        "len(nueva)"
      ],
      "metadata": {
        "colab": {
          "base_uri": "https://localhost:8080/"
        },
        "id": "GOaqFZ8r88Kv",
        "outputId": "3a2ade64-9cf0-4f78-abcb-7ff69e93f8d0"
      },
      "execution_count": null,
      "outputs": [
        {
          "output_type": "execute_result",
          "data": {
            "text/plain": [
              "18"
            ]
          },
          "metadata": {},
          "execution_count": 14
        }
      ]
    },
    {
      "cell_type": "code",
      "source": [
        "promedio = suma_total / len(nueva)"
      ],
      "metadata": {
        "id": "zwvqS_cB9DBC"
      },
      "execution_count": null,
      "outputs": []
    },
    {
      "cell_type": "code",
      "source": [
        "promedio"
      ],
      "metadata": {
        "colab": {
          "base_uri": "https://localhost:8080/"
        },
        "id": "ngGPeqnD9M4J",
        "outputId": "33e848e1-0799-4131-c232-4607d4fdb9c6"
      },
      "execution_count": null,
      "outputs": [
        {
          "output_type": "execute_result",
          "data": {
            "text/plain": [
              "7.5"
            ]
          },
          "metadata": {},
          "execution_count": 16
        }
      ]
    },
    {
      "cell_type": "code",
      "source": [
        "#2. Crea un bucle que divida en 3 listas del mismo tamaño a los elementos de las listas anteriores ordenados de menor a mayor.\n",
        "nueva.sort()"
      ],
      "metadata": {
        "id": "xQPbWazF6P7L"
      },
      "execution_count": null,
      "outputs": []
    },
    {
      "cell_type": "code",
      "source": [
        "nueva"
      ],
      "metadata": {
        "colab": {
          "base_uri": "https://localhost:8080/"
        },
        "id": "tyLOUU_sC5Qw",
        "outputId": "3304de64-c12c-49b5-e8bd-1fb7ffd54f9b"
      },
      "execution_count": null,
      "outputs": [
        {
          "output_type": "execute_result",
          "data": {
            "text/plain": [
              "[5.6,\n",
              " 5.8,\n",
              " 6.1,\n",
              " 6.8,\n",
              " 6.8,\n",
              " 6.8,\n",
              " 7.2,\n",
              " 7.5,\n",
              " 7.7,\n",
              " 7.7,\n",
              " 7.8,\n",
              " 7.9,\n",
              " 8.0,\n",
              " 8.2,\n",
              " 8.2,\n",
              " 8.5,\n",
              " 9.0,\n",
              " 9.4]"
            ]
          },
          "metadata": {},
          "execution_count": 18
        }
      ]
    },
    {
      "cell_type": "code",
      "source": [
        "n = len(nueva)\n",
        "n"
      ],
      "metadata": {
        "colab": {
          "base_uri": "https://localhost:8080/"
        },
        "id": "IKiLVZsLC98i",
        "outputId": "6971c2b4-6416-4d0a-f368-e3a78f6333b6"
      },
      "execution_count": null,
      "outputs": [
        {
          "output_type": "execute_result",
          "data": {
            "text/plain": [
              "18"
            ]
          },
          "metadata": {},
          "execution_count": 19
        }
      ]
    },
    {
      "cell_type": "code",
      "source": [
        "cad = n / 3\n",
        "cad"
      ],
      "metadata": {
        "colab": {
          "base_uri": "https://localhost:8080/"
        },
        "id": "5snxRC7xDFwK",
        "outputId": "a4172e9a-766d-4a59-a00b-0f6969ccec0c"
      },
      "execution_count": null,
      "outputs": [
        {
          "output_type": "execute_result",
          "data": {
            "text/plain": [
              "6.0"
            ]
          },
          "metadata": {},
          "execution_count": 20
        }
      ]
    },
    {
      "cell_type": "code",
      "source": [
        "L1_ord = []\n",
        "L2_ord = []\n",
        "L3_ord = []\n",
        "\n",
        "m = 0\n",
        "while m < cad:\n",
        "    L1_ord.append(nueva[m])\n",
        "    L2_ord.append(nueva[m + 6])\n",
        "    L3_ord.append(nueva[m + 12])\n",
        "    m += 1"
      ],
      "metadata": {
        "id": "4OGx0I4nDM3s"
      },
      "execution_count": null,
      "outputs": []
    },
    {
      "cell_type": "code",
      "source": [
        "L1_ord"
      ],
      "metadata": {
        "colab": {
          "base_uri": "https://localhost:8080/"
        },
        "id": "EJ2PELcGD_eH",
        "outputId": "a0820602-5d15-473d-a484-4266d255148f"
      },
      "execution_count": null,
      "outputs": [
        {
          "output_type": "execute_result",
          "data": {
            "text/plain": [
              "[5.6, 5.8, 6.1, 6.8, 6.8, 6.8]"
            ]
          },
          "metadata": {},
          "execution_count": 22
        }
      ]
    },
    {
      "cell_type": "code",
      "source": [
        "L2_ord"
      ],
      "metadata": {
        "colab": {
          "base_uri": "https://localhost:8080/"
        },
        "id": "GcSmbE9QED-x",
        "outputId": "17abb538-8f0f-4bf1-c116-d8176d35b2c0"
      },
      "execution_count": null,
      "outputs": [
        {
          "output_type": "execute_result",
          "data": {
            "text/plain": [
              "[7.2, 7.5, 7.7, 7.7, 7.8, 7.9]"
            ]
          },
          "metadata": {},
          "execution_count": 23
        }
      ]
    },
    {
      "cell_type": "code",
      "source": [
        "L3_ord"
      ],
      "metadata": {
        "colab": {
          "base_uri": "https://localhost:8080/"
        },
        "id": "h3O1XdLIEHKa",
        "outputId": "6f3fcea2-51f5-4442-820b-d822ed559c1f"
      },
      "execution_count": null,
      "outputs": [
        {
          "output_type": "execute_result",
          "data": {
            "text/plain": [
              "[8.0, 8.2, 8.2, 8.5, 9.0, 9.4]"
            ]
          },
          "metadata": {},
          "execution_count": 24
        }
      ]
    },
    {
      "cell_type": "code",
      "source": [
        "#3. Crea una código que reciba del usuario nueve elementos de una matriz cuadrada de 3x3 y que retorne el determinante de la matriz.\n",
        "\n",
        "import numpy as np"
      ],
      "metadata": {
        "id": "E73BzwuR6e0n"
      },
      "execution_count": null,
      "outputs": []
    },
    {
      "cell_type": "code",
      "source": [
        "elem = []\n",
        "for i in range(9):\n",
        "  num = float(input(f\"Elemento {i+1}:\"))\n",
        "  elem.append(num)\n",
        "matriz = np.array(elem).reshape((3, 3))\n",
        "print(matriz)\n",
        "\n",
        "#calcular el determinante\n",
        "Det = np.linalg.det(matriz)\n",
        "print(f'el determinante  de la matriz es:',Det)"
      ],
      "metadata": {
        "id": "EKUF59iFjXQh"
      },
      "execution_count": null,
      "outputs": []
    },
    {
      "cell_type": "code",
      "source": [
        "#4. Crea un código que reciba una cadena de caracteres y arroje la respuesta de si es un estado ó una capital del país."
      ],
      "metadata": {
        "id": "M05Iuzb06jcg"
      },
      "execution_count": null,
      "outputs": []
    },
    {
      "cell_type": "code",
      "source": [
        "estados = {\n",
        "    1: \"Aguascalientes\", 2: \"Baja California\", 3: \"Baja California Sur\", 4: \"Campeche\",\n",
        "    5: \"Chiapas\", 6: \"Chihuahua\", 7: \"Ciudad de México\", 8: \"Coahuila\", 9: \"Colima\",\n",
        "    10: \"Durango\", 11: \"Estado de México\", 12: \"Guanajuato\", 13: \"Guerrero\", 14: \"Hidalgo\",\n",
        "    15: \"Jalisco\", 16: \"Michoacán\", 17: \"Morelos\", 18: \"Nayarit\", 19: \"Nuevo León\",\n",
        "    20: \"Oaxaca\", 21: \"Puebla\", 22: \"Querétaro\", 23: \"Quintana Roo\", 24: \"San Luis Potosí\",\n",
        "    25: \"Sinaloa\", 26: \"Sonora\", 27: \"Tabasco\", 28: \"Tamaulipas\", 29: \"Tlaxcala\",\n",
        "    30: \"Veracruz\", 31: \"Yucatán\", 32: \"Zacatecas\"\n",
        "}\n",
        "\n",
        "# Diccionario de capitales\n",
        "capitales = {\n",
        "    1: \"Aguascalientes\", 2: \"Mexicali\", 3: \"La Paz\", 4: \"San Francisco de Campeche\",\n",
        "    5: \"Tuxtla Gutiérrez\", 6: \"Chihuahua\", 7: \"Ciudad de México\", 8: \"Saltillo\",\n",
        "    9: \"Colima\", 10: \"Victoria de Durango\", 11: \"Toluca\", 12: \"Guanajuato\",\n",
        "    13: \"Chilpancingo\", 14: \"Pachuca\", 15: \"Guadalajara\", 16: \"Morelia\",\n",
        "    17: \"Cuernavaca\", 18: \"Tepic\", 19: \"Monterrey\", 20: \"Oaxaca\", 21: \"Puebla\",\n",
        "    22: \"Santiago de Querétaro\", 23: \"Chetumal\", 24: \"San Luis Potosí\", 25: \"Culiacán\",\n",
        "    26: \"Hermosillo\", 27: \"Villahermosa\", 28: \"Ciudad Victoria\", 29: \"Tlaxcala\",\n",
        "    30: \"Xalapa\", 31: \"Mérida\", 32: \"Zacatecas\"\n",
        "}"
      ],
      "metadata": {
        "id": "mJqtoegDIt2q"
      },
      "execution_count": null,
      "outputs": []
    },
    {
      "cell_type": "code",
      "source": [
        "est = list(estados.values())"
      ],
      "metadata": {
        "id": "_2GloGx3ItzK"
      },
      "execution_count": null,
      "outputs": []
    },
    {
      "cell_type": "code",
      "source": [
        "cap = list(capitales.values())"
      ],
      "metadata": {
        "id": "t4F-mmsmItq7"
      },
      "execution_count": null,
      "outputs": []
    },
    {
      "cell_type": "code",
      "source": [
        "estados_y_capitales = est + cap"
      ],
      "metadata": {
        "id": "95XO1xCYg8cD"
      },
      "execution_count": null,
      "outputs": []
    },
    {
      "cell_type": "code",
      "source": [
        "estados_y_capitales"
      ],
      "metadata": {
        "id": "mQTc5cIMhGfv"
      },
      "execution_count": null,
      "outputs": []
    },
    {
      "cell_type": "code",
      "source": [
        "# El usuario proporciona un nombre\n",
        "entrada = input(\"Ingresa un nombre: \").strip()\n",
        "\n",
        "# Normalizar para comparación\n",
        "entrada_normalizada = entrada.lower()\n",
        "\n",
        "# Buscar el lugar del nombre proporcionado\n",
        "es_estado = False\n",
        "es_capital = False\n",
        "\n",
        "for estado, capital in estados_y_capitales.items():\n",
        "    if entrada_normalizada == estado.lower():\n",
        "        es_estado = True\n",
        "    if entrada_normalizada == capital.lower():\n",
        "        es_capital = True\n",
        "\n",
        "#Tiene 4 opciones\n",
        "if es_estado and es_capital:\n",
        "    print(f\"{entrada} es estado y capital.\")\n",
        "elif es_estado:\n",
        "    print(f\"{entrada} es un estado.\")\n",
        "elif es_capital:\n",
        "    print(f\"{entrada} es una capital.\")\n",
        "else:\n",
        "    print(f\"{entrada} no es ni estado ni capital.\")"
      ],
      "metadata": {
        "id": "WgL58GLOPgsN"
      },
      "execution_count": null,
      "outputs": []
    },
    {
      "cell_type": "code",
      "source": [
        "#5. Pide al usuario dos listas de números reales (misma longitud) y calcula su producto escalar usando un bucle for."
      ],
      "metadata": {
        "id": "vQb_m5S46nZo"
      },
      "execution_count": null,
      "outputs": []
    },
    {
      "cell_type": "code",
      "source": [
        "# Pedir al usuario la longitud de las listas\n",
        "n = int(input(\"¿Cuántos elementos tendran las listas? \"))\n",
        "\n",
        "# Pedir los elementos de la primera lista\n",
        "print(\"Introduce los elementos de la primera lista:\")\n",
        "lista_1 = []\n",
        "for i in range(n):\n",
        "    x = float(input(f\"Elemento {i+1}: \"))\n",
        "    lista_1.append(x)\n",
        "\n",
        "# Pedir los elementos de la segunda lista\n",
        "print(\"Introduce los elementos de la segunda lista:\")\n",
        "lista_2 = []\n",
        "for i in range(n):\n",
        "    y = float(input(f\"Elemento {i+1}: \"))\n",
        "    lista_2.append(y)\n",
        "\n",
        "# Calcular el producto escalar\n",
        "producto_escalar = 0\n",
        "for i in range(n):\n",
        "    producto_escalar += lista_1[i] * lista_2[i]\n",
        "\n",
        "print(f\"\\nEl producto escalar  es: {producto_escalar}\")"
      ],
      "metadata": {
        "id": "lkcFL7eQiT8i"
      },
      "execution_count": null,
      "outputs": []
    },
    {
      "cell_type": "code",
      "source": [
        "#6. Utiliza un bucle while True para pedir números al usuario y agregarlos a una lista. Cuando la suma total de los elementos sea mayor a 100,\n",
        " #el programa debe detenerse y mostrar la lista y la suma final."
      ],
      "metadata": {
        "id": "k_BCdQxF6sEe"
      },
      "execution_count": null,
      "outputs": []
    },
    {
      "cell_type": "code",
      "source": [
        "numeros = []\n",
        "suma_total = 0\n",
        "\n",
        "print(\"Ingresa números. El programa se detendrá cuando la suma supere 100.\")\n",
        "\n",
        "while True:\n",
        "    num = float(input(\"Número: \"))\n",
        "    numeros.append(num)\n",
        "    suma_total += num\n",
        "\n",
        "    if suma_total > 100:\n",
        "        break\n",
        "\n",
        "print(\"\\nSuma total:\", suma_total)\n",
        "print(\"Lista de números ingresados:\", numeros)"
      ],
      "metadata": {
        "id": "u_Uv98FQigUM"
      },
      "execution_count": null,
      "outputs": []
    },
    {
      "cell_type": "code",
      "source": [
        "#7. Crea una lista vacía y presenta al usuario un menú como este dentro de un while True:\n",
        "#El usuario debe poder ejecutar varias opciones hasta que elija salir.\n",
        "lista = []\n",
        "\n",
        "while True:\n",
        "    print(\"\\nMenú:\")\n",
        "    print(\"1. Agregar número\")\n",
        "    print(\"2. Mostrar lista\")\n",
        "    print(\"3. Salir\")\n",
        "\n",
        "    opcion = input(\"Seleccione una opción: \")\n",
        "\n",
        "    if opcion == \"1\":\n",
        "        numero = float(input(\"Ingrese un número: \"))\n",
        "        lista.append(numero)\n",
        "        print(\"Número agregado.\")\n",
        "    elif opcion == \"2\":\n",
        "        print(\"Lista actual:\", lista)\n",
        "    elif opcion == \"3\":\n",
        "        print(\"Saliendo del programa.\")\n",
        "        break\n",
        "    else:\n",
        "        print(\"Opción no válida. Intente de nuevo.\")\n"
      ],
      "metadata": {
        "id": "XKmOFqD-6yFQ"
      },
      "execution_count": null,
      "outputs": []
    }
  ]
}